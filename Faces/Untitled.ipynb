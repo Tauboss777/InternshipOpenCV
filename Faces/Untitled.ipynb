{
 "cells": [
  {
   "cell_type": "code",
   "execution_count": 2,
   "id": "a199442e-5cf5-4344-b628-b11c8c5ddd9f",
   "metadata": {},
   "outputs": [
    {
     "ename": "ModuleNotFoundError",
     "evalue": "No module named 'cv2'",
     "output_type": "error",
     "traceback": [
      "\u001b[1;31m---------------------------------------------------------------------------\u001b[0m",
      "\u001b[1;31mModuleNotFoundError\u001b[0m                       Traceback (most recent call last)",
      "Input \u001b[1;32mIn [2]\u001b[0m, in \u001b[0;36m<cell line: 3>\u001b[1;34m()\u001b[0m\n\u001b[0;32m      1\u001b[0m \u001b[38;5;28;01mimport\u001b[39;00m \u001b[38;5;21;01mos\u001b[39;00m\n\u001b[1;32m----> 3\u001b[0m \u001b[38;5;28;01mimport\u001b[39;00m \u001b[38;5;21;01mcv2\u001b[39;00m\n\u001b[0;32m      4\u001b[0m \u001b[38;5;28;01mimport\u001b[39;00m \u001b[38;5;21;01mnumpy\u001b[39;00m\n\u001b[0;32m      7\u001b[0m \u001b[38;5;28;01mdef\u001b[39;00m \u001b[38;5;21mread_images\u001b[39m(path, image_size):\n",
      "\u001b[1;31mModuleNotFoundError\u001b[0m: No module named 'cv2'"
     ]
    }
   ],
   "source": [
    "import os\n",
    "\n",
    "import cv2\n",
    "import numpy\n",
    "\n",
    "\n",
    "def read_images(path, image_size):\n",
    "    names = []\n",
    "    training_images, training_labels = [], []\n",
    "    label = 0\n",
    "    for dirname, subdirnames, filenames in os.walk(path):\n",
    "        for subdirname in subdirnames:\n",
    "            names.append(subdirname)\n",
    "            subject_path = os.path.join(dirname, subdirname)\n",
    "            for filename in os.listdir(subject_path):\n",
    "                img = cv2.imread(os.path.join(subject_path, filename),\n",
    "                                 cv2.IMREAD_GRAYSCALE)\n",
    "                if img is None:\n",
    "                    # The file cannot be loaded as an image.\n",
    "                    # Skip it.\n",
    "                    continue\n",
    "                img = cv2.resize(img, image_size)\n",
    "                training_images.append(img)\n",
    "                training_labels.append(label)\n",
    "            label += 1\n",
    "    training_images = numpy.asarray(training_images, numpy.uint8)\n",
    "    training_labels = numpy.asarray(training_labels, numpy.int32)\n",
    "    return names, training_images, training_labels\n",
    "\n",
    "\n",
    "path_to_training_images = '../Resources/faces/dt'\n",
    "training_image_size = (200, 200)\n",
    "names, training_images, training_labels = read_images(\n",
    "    path_to_training_images, training_image_size)\n",
    "\n",
    "model = cv2.face.FisherFaceRecognizer_create()\n",
    "model.train(training_images, training_labels)\n",
    "\n",
    "face_cascade = cv2.CascadeClassifier('../cascades/haarcascade_frontalface_default.xml')\n",
    "\n",
    "camera = cv2.VideoCapture(0)\n",
    "while (cv2.waitKey(1) == -1):\n",
    "    success, frame = camera.read()\n",
    "    if success:\n",
    "        faces = face_cascade.detectMultiScale(frame, 1.3, 5)\n",
    "        for (x, y, w, h) in faces:\n",
    "            cv2.rectangle(frame, (x, y), (x+w, y+h), (255, 0, 0), 2)\n",
    "            gray = cv2.cvtColor(frame, cv2.COLOR_BGR2GRAY)\n",
    "            roi_gray = gray[x:x+w, y:y+h]\n",
    "            if roi_gray.size == 0:\n",
    "                # The ROI is empty. Maybe the face is at the image edge.\n",
    "                # Skip it.\n",
    "                continue\n",
    "            roi_gray = cv2.resize(roi_gray, training_image_size)\n",
    "            label, confidence = model.predict(roi_gray)\n",
    "            text = '%s, confidence=%.2f' % (names[label], confidence)\n",
    "            cv2.putText(frame, text, (x, y - 20),\n",
    "                        cv2.FONT_HERSHEY_SIMPLEX, 1, (255, 0, 0), 2)\n",
    "        cv2.imshow('Face Recognition', frame)"
   ]
  },
  {
   "cell_type": "code",
   "execution_count": 3,
   "id": "e9261352-866a-4119-8f3e-3e3cd32723ad",
   "metadata": {},
   "outputs": [
    {
     "name": "stdout",
     "output_type": "stream",
     "text": [
      "Collecting opencv-python\n",
      "  Using cached opencv_python-4.6.0.66-cp36-abi3-win_amd64.whl (35.6 MB)\n",
      "Requirement already satisfied: numpy>=1.17.3 in c:\\users\\danie\\anaconda3\\lib\\site-packages (from opencv-python) (1.21.5)\n",
      "Installing collected packages: opencv-python\n",
      "Successfully installed opencv-python-4.6.0.66\n"
     ]
    }
   ],
   "source": [
    "!pip install --upgrade opencv-python"
   ]
  },
  {
   "cell_type": "code",
   "execution_count": null,
   "id": "aafb6f14-ada1-4601-bb2b-71cd1ad57a2c",
   "metadata": {},
   "outputs": [],
   "source": []
  }
 ],
 "metadata": {
  "kernelspec": {
   "display_name": "Python 3 (ipykernel)",
   "language": "python",
   "name": "python3"
  },
  "language_info": {
   "codemirror_mode": {
    "name": "ipython",
    "version": 3
   },
   "file_extension": ".py",
   "mimetype": "text/x-python",
   "name": "python",
   "nbconvert_exporter": "python",
   "pygments_lexer": "ipython3",
   "version": "3.9.12"
  }
 },
 "nbformat": 4,
 "nbformat_minor": 5
}
